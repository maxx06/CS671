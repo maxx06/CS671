{
  "cells": [
    {
      "cell_type": "markdown",
      "metadata": {
        "id": "YNaCPBBZxlAs"
      },
      "source": [
        "# CS-671, Fall 2025 - HW 1, Q2"
      ]
    },
    {
      "cell_type": "markdown",
      "metadata": {
        "id": "NRfHl7jKx1-q"
      },
      "source": [
        "## StarterCode Setup"
      ]
    },
    {
      "cell_type": "markdown",
      "metadata": {
        "id": "x3A3xWHJ1XCe"
      },
      "source": [
        "### Importing Libraries"
      ]
    },
    {
      "cell_type": "code",
      "execution_count": 1,
      "metadata": {
        "id": "Mhs3wDPtxy43"
      },
      "outputs": [],
      "source": [
        "import numpy as np\n",
        "from numpy.linalg import norm\n",
        "from sklearn.datasets import load_breast_cancer\n",
        "from sklearn.model_selection import train_test_split\n",
        "\n",
        "import matplotlib.pyplot as plt"
      ]
    },
    {
      "cell_type": "markdown",
      "metadata": {
        "id": "-0QlqfAK1Z8s"
      },
      "source": [
        "### Loading Dataset, Splitting Data into Train and Test sets"
      ]
    },
    {
      "cell_type": "code",
      "execution_count": null,
      "metadata": {
        "colab": {
          "base_uri": "https://localhost:8080/"
        },
        "id": "EhpSDIxhxy44",
        "outputId": "f887fd2c-2471-477a-bbe3-1f991a9f80fb"
      },
      "outputs": [
        {
          "name": "stdout",
          "output_type": "stream",
          "text": [
            "(455, 30) (114, 30) (455,) (114,)\n"
          ]
        }
      ],
      "source": [
        "bcd = load_breast_cancer()\n",
        "X = bcd.data\n",
        "y = bcd.target\n",
        "y = 1 - y\n",
        "\n",
        "# Split the dataset with a fixed random seed (random_state=42)\n",
        "X_train, X_test, y_train, y_test = train_test_split(\n",
        "    X, y,\n",
        "    test_size=0.2,\n",
        "    random_state=42,\n",
        "    stratify=y\n",
        ")\n",
        "\n",
        "print(X_train.shape, X_test.shape, y_train.shape, y_test.shape)\n"
      ]
    },
    {
      "cell_type": "markdown",
      "metadata": {
        "id": "6tGCtGIr1pQ4"
      },
      "source": [
        "## Q2 (b): Implement a k-NN algorithm from scratch to classify the dataset. Use `k = 31` and the `euclidean` distance, and __make sure to normalize the data__. Report your model’s F1 score on the test set."
      ]
    },
    {
      "cell_type": "code",
      "execution_count": 27,
      "metadata": {},
      "outputs": [],
      "source": [
        "# normalizing the data\n",
        "def normalize_data(X):\n",
        "    for i in range(len(X)):\n",
        "        X[i] = (X[i] - min(X[i])) / (max(X[i]) - min(X[i]))\n",
        "    return X\n",
        "\n",
        "X_train_norm = normalize_data(X_train)\n",
        "X_test_norm = normalize_data(X_test)"
      ]
    },
    {
      "cell_type": "code",
      "execution_count": 45,
      "metadata": {
        "id": "1ZULNz76xy46"
      },
      "outputs": [],
      "source": [
        "# euclidean distance\n",
        "def euclidean_distance(x1, x2):\n",
        "    ret = 0\n",
        "    for i in range(len(x1)):\n",
        "        ret += (x1[i]-x2[i]) ** 2\n",
        "    return np.sqrt(ret)\n",
        "\n",
        "def cosine_similarity(x1, x2):\n",
        "    return np.dot(x1, x2) / (np.linalg.norm(x1) * np.linalg.norm(x2))\n",
        "\n",
        "def knn_predict(X_train, y_train, X_test, k, dist_func):\n",
        "    predictions = []\n",
        "    for x in X_test:\n",
        "        if dist_func == 'euclidean':\n",
        "            distances = [euclidean_distance(x, x_train) for x_train in X_train]\n",
        "        elif dist_func == 'cosine':\n",
        "            distances = [cosine_similarity(x, x_train) for x_train in X_train]\n",
        "        else:\n",
        "            raise ValueError(\"Invalid distance function\")\n",
        "        k_nearest = np.argsort(distances)[:k]\n",
        "        k_nearest_labels = [y_train[i] for i in k_nearest]\n",
        "        predictions.append(np.argmax(np.bincount(k_nearest_labels)))\n",
        "    return predictions"
      ]
    },
    {
      "cell_type": "code",
      "execution_count": 46,
      "metadata": {},
      "outputs": [],
      "source": [
        "predictions = knn_predict(X_train_norm, y_train, X_test_norm, 31, 'euclidean')"
      ]
    },
    {
      "cell_type": "code",
      "execution_count": 60,
      "metadata": {},
      "outputs": [
        {
          "data": {
            "text/plain": [
              "0.821917808219178"
            ]
          },
          "execution_count": 60,
          "metadata": {},
          "output_type": "execute_result"
        }
      ],
      "source": [
        "def f1_score(y_true, y_pred):\n",
        "    tp = 0\n",
        "    fp = 0\n",
        "    fn = 0\n",
        "    for i in range(len(y_true)):\n",
        "        if y_true[i] == 1 and y_pred[i] == 1:\n",
        "            tp += 1\n",
        "        elif y_true[i] == 1 and y_pred[i] == 0:\n",
        "            fn += 1\n",
        "        elif y_true[i] == 0 and y_pred[i] == 1:\n",
        "            fp += 1\n",
        "    \n",
        "    # Handle edge cases to avoid division by zero\n",
        "    if tp + fp == 0:\n",
        "        precision = 0\n",
        "    else:\n",
        "        precision = tp / (tp + fp)\n",
        "    \n",
        "    if tp + fn == 0:\n",
        "        recall = 0\n",
        "    else:\n",
        "        recall = tp / (tp + fn)\n",
        "    \n",
        "    if precision + recall == 0:\n",
        "        return 0\n",
        "    else:\n",
        "        return 2 * precision * recall / (precision + recall)\n",
        "\n",
        "f1_score(y_test, predictions)"
      ]
    },
    {
      "cell_type": "markdown",
      "metadata": {
        "id": "N4UfKstD2JsW"
      },
      "source": [
        "## Q2 (c): Use cross-validation with 5 folds and the F1 score to tune the value of k and the distance function used (possible distance functions to use could be Euclidean distance, Manhattan distance, or cosine similarity). Make sure to use at least five values of k between 1 and 63, and try at least two distance functions. For each distance function, show a plot where the x-axis depicts the value of k and the y-axis depicts the average F1 score for that value of k during cross-validation. Which pair of parameters performed the best? Note: You may find the array split method from NumPy helpful when implementing cross-validation."
      ]
    },
    {
      "cell_type": "code",
      "execution_count": 65,
      "metadata": {
        "id": "SAKO2ILHxy46"
      },
      "outputs": [],
      "source": [
        "ks = [2, 5, 8, 15, 22, 30, 38, 45, 52, 63]\n",
        "\n",
        "# Returns the average f1 score for given k and distance function\n",
        "def cross_validation(X, y, k, dist_func):\n",
        "    X_folds = np.array_split(X, k)\n",
        "    y_folds = np.array_split(y, k)\n",
        "    performance = 0\n",
        "\n",
        "    for i in range(k):\n",
        "        X_train = np.concatenate(X_folds[:i] + X_folds[i+1:])\n",
        "        y_train = np.concatenate(y_folds[:i] + y_folds[i+1:])\n",
        "        X_test = X_folds[i]\n",
        "        y_test = y_folds[i]\n",
        "\n",
        "        predictions = knn_predict(X_train, y_train, X_test, k, dist_func)\n",
        "\n",
        "\n",
        "        loss = f1_score(y_test, predictions)\n",
        "        performance += loss\n",
        "\n",
        "    return performance / k\n"
      ]
    },
    {
      "cell_type": "markdown",
      "metadata": {},
      "source": [
        "# Plot Euclidean Distance"
      ]
    },
    {
      "cell_type": "code",
      "execution_count": null,
      "metadata": {},
      "outputs": [
        {
          "data": {
            "image/png": "[encoded data removed]",
            "text/plain": [
              "<Figure size 640x480 with 1 Axes>"
            ]
          },
          "metadata": {},
          "output_type": "display_data"
        }
      ],
      "source": [
        "f1s = []\n",
        "for k in ks:\n",
        "    f1s.append(cross_validation(X_train_norm, Y_train_norm, k, 'euclidean'))\n",
        "\n",
        "plt.plot(ks, f1s)\n",
        "plt.xlabel('k')\n",
        "plt.ylabel('Average f1 score')\n",
        "plt.title('Average f1 score vs k for Euclidean Distance')\n",
        "plt.show()"
      ]
    },
    {
      "cell_type": "markdown",
      "metadata": {},
      "source": [
        "# Plot "
      ]
    },
    {
      "cell_type": "markdown",
      "metadata": {
        "id": "_CSio70FzrVW"
      },
      "source": [
        "## Q2 (d): Using the best parameters determined in part (c), report the performance of a k-NN classifier on the test set. Compare this to your model in part (b). Is it as you expected?"
      ]
    },
    {
      "cell_type": "code",
      "execution_count": null,
      "metadata": {
        "id": "0zyjTrZ0xy47"
      },
      "outputs": [],
      "source": [
        "best_preds = "
      ]
    },
    {
      "cell_type": "markdown",
      "metadata": {
        "id": "-a4gSQsY0Mby"
      },
      "source": [
        "## Q2 (e -> i): Using the test dataset and the same parameters as part (c), plot the ROC curve of your classifier as points connected by lines. You may implement the ROC curve computation using either of the two methods discussed in the HW PDF"
      ]
    },
    {
      "cell_type": "code",
      "execution_count": null,
      "metadata": {
        "id": "sEoY2hdDwLdz"
      },
      "outputs": [],
      "source": [
        "def tpr(y_true, y_pred):\n",
        "    tp = 0\n",
        "    fn = 0\n",
        "    for i in range(len(y_true)):\n",
        "        if y_true[i] == 1 and y_pred[i] == 1:\n",
        "            tp += 1\n",
        "        elif y_true[i] == 1 and y_pred[i] == 0:\n",
        "            fn += 1\n",
        "    return tp / (tp + fn)\n",
        "\n",
        "def fpr(y_true, y_pred):\n",
        "    fp = 0\n",
        "    tn = 0\n",
        "    for i in range(len(y_true)):\n",
        "        if y_true[i] == 0 and y_pred[i] == 1:\n",
        "            fp += 1\n",
        "        if y_true[i] == 0 and y_pred[i] == 0:\n",
        "            tn += 1\n",
        "    return fp / (fp + tn)"
      ]
    },
    {
      "cell_type": "markdown",
      "metadata": {
        "id": "dynpl-vgzmkZ"
      },
      "source": [
        "### Q2 (e -> ii)"
      ]
    },
    {
      "cell_type": "code",
      "execution_count": null,
      "metadata": {
        "id": "deQMKxju2So_"
      },
      "outputs": [],
      "source": []
    }
  ],
  "metadata": {
    "colab": {
      "provenance": []
    },
    "kernelspec": {
      "display_name": "Python 3",
      "language": "python",
      "name": "python3"
    },
    "language_info": {
      "codemirror_mode": {
        "name": "ipython",
        "version": 3
      },
      "file_extension": ".py",
      "mimetype": "text/x-python",
      "name": "python",
      "nbconvert_exporter": "python",
      "pygments_lexer": "ipython3",
      "version": "3.11.0"
    }
  },
  "nbformat": 4,
  "nbformat_minor": 0
}
