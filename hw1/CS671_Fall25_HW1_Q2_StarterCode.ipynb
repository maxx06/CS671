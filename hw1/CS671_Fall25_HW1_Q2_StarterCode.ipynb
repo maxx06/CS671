{
  "cells": [
    {
      "cell_type": "markdown",
      "source": [
        "# CS-671, Fall 2025 - HW 1, Q2"
      ],
      "metadata": {
        "id": "YNaCPBBZxlAs"
      }
    },
    {
      "cell_type": "markdown",
      "source": [
        "## StarterCode Setup"
      ],
      "metadata": {
        "id": "NRfHl7jKx1-q"
      }
    },
    {
      "cell_type": "markdown",
      "source": [
        "### Importing Libraries"
      ],
      "metadata": {
        "id": "x3A3xWHJ1XCe"
      }
    },
    {
      "cell_type": "code",
      "execution_count": null,
      "metadata": {
        "id": "Mhs3wDPtxy43"
      },
      "outputs": [],
      "source": [
        "import numpy as np\n",
        "from numpy.linalg import norm\n",
        "from sklearn.datasets import load_breast_cancer\n",
        "from sklearn.model_selection import train_test_split\n",
        "\n",
        "import matplotlib.pyplot as plt"
      ]
    },
    {
      "cell_type": "markdown",
      "source": [
        "### Loading Dataset, Splitting Data into Train and Test sets"
      ],
      "metadata": {
        "id": "-0QlqfAK1Z8s"
      }
    },
    {
      "cell_type": "code",
      "execution_count": null,
      "metadata": {
        "id": "EhpSDIxhxy44",
        "colab": {
          "base_uri": "https://localhost:8080/"
        },
        "outputId": "f887fd2c-2471-477a-bbe3-1f991a9f80fb"
      },
      "outputs": [
        {
          "output_type": "stream",
          "name": "stdout",
          "text": [
            "(455, 30) (114, 30) (455,) (114,)\n"
          ]
        }
      ],
      "source": [
        "bcd = load_breast_cancer()\n",
        "X = bcd.data\n",
        "y = bcd.target\n",
        "y = 1 - y\n",
        "\n",
        "\n",
        "\n",
        "# Split the dataset with a fixed random seed (random_state=42)\n",
        "X_train, X_test, y_train, y_test = train_test_split(\n",
        "    X, y,\n",
        "    test_size=0.2,\n",
        "    random_state=42,\n",
        "    stratify=y\n",
        ")\n",
        "\n",
        "print(X_train.shape, X_test.shape, y_train.shape, y_test.shape)\n"
      ]
    },
    {
      "cell_type": "markdown",
      "source": [
        "## Q2 (b): Implement a k-NN algorithm from scratch to classify the dataset. Use `k = 31` and the `euclidean` distance, and __make sure to normalize the data__. Report your model’s F1 score on the test set."
      ],
      "metadata": {
        "id": "6tGCtGIr1pQ4"
      }
    },
    {
      "cell_type": "code",
      "execution_count": null,
      "metadata": {
        "id": "1ZULNz76xy46"
      },
      "outputs": [],
      "source": []
    },
    {
      "cell_type": "markdown",
      "source": [
        "## Q2 (c): Use cross-validation with 5 folds and the F1 score to tune the value of k and the distance function used (possible distance functions to use could be Euclidean distance, Manhattan distance, or cosine similarity). Make sure to use at least five values of k between 1 and 63, and try at least two distance functions. For each distance function, show a plot where the x-axis depicts the value of k and the y-axis depicts the average F1 score for that value of k during cross-validation. Which pair of parameters performed the best? Note: You may find the array split method from NumPy helpful when implementing cross-validation."
      ],
      "metadata": {
        "id": "N4UfKstD2JsW"
      }
    },
    {
      "cell_type": "code",
      "execution_count": null,
      "metadata": {
        "id": "SAKO2ILHxy46"
      },
      "outputs": [],
      "source": []
    },
    {
      "cell_type": "markdown",
      "source": [
        "## Q2 (d): Using the best parameters determined in part (c), report the performance of a k-NN classifier on the test set. Compare this to your model in part (b). Is it as you expected?"
      ],
      "metadata": {
        "id": "_CSio70FzrVW"
      }
    },
    {
      "cell_type": "code",
      "execution_count": null,
      "metadata": {
        "id": "0zyjTrZ0xy47"
      },
      "outputs": [],
      "source": []
    },
    {
      "cell_type": "markdown",
      "source": [
        "## Q2 (e -> i): Using the test dataset and the same parameters as part (c), plot the ROC curve of your classifier as points connected by lines. You may implement the ROC curve computation using either of the two methods discussed in the HW PDF"
      ],
      "metadata": {
        "id": "-a4gSQsY0Mby"
      }
    },
    {
      "cell_type": "code",
      "source": [],
      "metadata": {
        "id": "sEoY2hdDwLdz"
      },
      "execution_count": null,
      "outputs": []
    },
    {
      "cell_type": "markdown",
      "source": [
        "### Q2 (e -> ii)"
      ],
      "metadata": {
        "id": "dynpl-vgzmkZ"
      }
    },
    {
      "cell_type": "code",
      "source": [],
      "metadata": {
        "id": "deQMKxju2So_"
      },
      "execution_count": null,
      "outputs": []
    }
  ],
  "metadata": {
    "kernelspec": {
      "display_name": "Python 3",
      "language": "python",
      "name": "python3"
    },
    "language_info": {
      "codemirror_mode": {
        "name": "ipython",
        "version": 3
      },
      "file_extension": ".py",
      "mimetype": "text/x-python",
      "name": "python",
      "nbconvert_exporter": "python",
      "pygments_lexer": "ipython3",
      "version": "3.7.6"
    },
    "colab": {
      "provenance": []
    }
  },
  "nbformat": 4,
  "nbformat_minor": 0
}